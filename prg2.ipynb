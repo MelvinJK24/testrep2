{
 "cells": [
  {
   "cell_type": "code",
   "execution_count": 10,
   "id": "eaf60fc6-c752-4a0c-8002-3b598ce24e35",
   "metadata": {
    "tags": []
   },
   "outputs": [
    {
     "name": "stdout",
     "output_type": "stream",
     "text": [
      "Let the solution be: a*x + b*y + c\n",
      "Let the b value be: sqrt(1 - a**2)\n",
      "z= a*x + c + y*sqrt(1 - a**2)\n"
     ]
    }
   ],
   "source": [
    "from sympy import *\n",
    "a,b,c,x,y,p,q=symbols('a b c x y p q')\n",
    "z=a*x+b*y+c\n",
    "print(\"Let the solution be z=\",z)\n",
    "eq=p**2+q**2-1\n",
    "eq1=eq.subs({p:a,q:b})\n",
    "ans=solve(eq1,b)\n",
    "b_value=ans[1]\n",
    "print(\"Let the b value be:\",b_value)\n",
    "z=z.subs(b,b_value)\n",
    "print(\"z=\",z)\n"
   ]
  },
  {
   "cell_type": "code",
   "execution_count": 12,
   "id": "3234e443-0b31-4de4-a10e-93bae8654d83",
   "metadata": {
    "tags": []
   },
   "outputs": [
    {
     "name": "stdout",
     "output_type": "stream",
     "text": [
      "Let the solution be z= a*x + b*y + c\n",
      "Let the b value be: (a**(-2))**(1/3)\n",
      "z= a*x + c + y*(a**(-2))**(1/3)\n"
     ]
    }
   ],
   "source": [
    "from sympy import *\n",
    "a,b,c,x,y,p,q=symbols('a b c x y p q')\n",
    "z=a*x+b*y+c\n",
    "print(\"Let the solution be z=\",z)\n",
    "eq=p**2*q**3-1\n",
    "eq1=eq.subs({p:a,q:b})\n",
    "ans=solve(eq1,b)\n",
    "b_value=ans[2]\n",
    "print(\"Let the b value be:\",b_value)\n",
    "z=z.subs(b,b_value)\n",
    "print(\"z=\",z)"
   ]
  },
  {
   "cell_type": "code",
   "execution_count": 13,
   "id": "33707c04-99aa-4e0e-b023-c739e6341b56",
   "metadata": {
    "tags": []
   },
   "outputs": [
    {
     "name": "stdout",
     "output_type": "stream",
     "text": [
      "Let the solution be z= a*x + b*y + c\n",
      "Let the b value be: log(a)\n",
      "z= a*x + c + y*log(a)\n"
     ]
    }
   ],
   "source": [
    "from sympy import *\n",
    "a,b,c,x,y,p,q=symbols('a b c x y p q')\n",
    "z=a*x+b*y+c\n",
    "print(\"Let the solution be z=\",z)\n",
    "eq=p-exp(q)\n",
    "eq1=eq.subs({p:a,q:b})\n",
    "ans=solve(eq1,b)\n",
    "b_value=ans[0]\n",
    "print(\"Let the b value be:\",b_value)\n",
    "z=z.subs(b,b_value)\n",
    "print(\"z=\",z)"
   ]
  },
  {
   "cell_type": "code",
   "execution_count": 16,
   "id": "c36efa33-b44d-4ad6-a532-0af268e8653c",
   "metadata": {
    "tags": []
   },
   "outputs": [
    {
     "name": "stdout",
     "output_type": "stream",
     "text": [
      "Let the solution be z= a*x + b*y + c\n",
      "Let the b value be: 1/a\n",
      "z= a*x + c + y/a\n"
     ]
    }
   ],
   "source": [
    "from sympy import *\n",
    "a,b,c,x,y,p,q=symbols('a b c x y p,q')\n",
    "z=a*x+b*y+c\n",
    "print(\"Let the solution be z=\",z)\n",
    "eq=p*q-1\n",
    "eq1=eq.subs({p:a,q:b})\n",
    "ans=solve(eq1,b)\n",
    "b_value=ans[0]\n",
    "print(\"Let the b value be:\",b_value)\n",
    "z=z.subs(b,b_value)\n",
    "print(\"z=\",z)"
   ]
  },
  {
   "cell_type": "code",
   "execution_count": 15,
   "id": "0c34b637-ae2f-4bc6-b762-23d879d0180a",
   "metadata": {
    "tags": []
   },
   "outputs": [
    {
     "name": "stdout",
     "output_type": "stream",
     "text": [
      "Let the solution be z= a*x + b*y + c\n",
      "Let the b value be: sqrt(a**2 - 1)\n",
      "z= a*x + c + y*sqrt(a**2 - 1)\n"
     ]
    }
   ],
   "source": [
    "from sympy import *\n",
    "a,b,c,x,y,p,q=symbols('a b c x y p q')\n",
    "z=a*x+b*y+c\n",
    "print(\"Let the solution be z=\",z)\n",
    "eq=p**2-q**2-1\n",
    "eq1=eq.subs({p:a,q:b})\n",
    "ans=solve(eq1,b)\n",
    "b_value=ans[1]\n",
    "print(\"Let the b value be:\",b_value)\n",
    "z=z.subs(b,b_value)\n",
    "print(\"z=\",z)"
   ]
  },
  {
   "cell_type": "code",
   "execution_count": null,
   "id": "25a6ecc5-deb7-450b-b221-0a0ac17696d9",
   "metadata": {},
   "outputs": [],
   "source": []
  }
 ],
 "metadata": {
  "kernelspec": {
   "display_name": "Python 3 (ipykernel)",
   "language": "python",
   "name": "python3"
  },
  "language_info": {
   "codemirror_mode": {
    "name": "ipython",
    "version": 3
   },
   "file_extension": ".py",
   "mimetype": "text/x-python",
   "name": "python",
   "nbconvert_exporter": "python",
   "pygments_lexer": "ipython3",
   "version": "3.11.3"
  }
 },
 "nbformat": 4,
 "nbformat_minor": 5
}
